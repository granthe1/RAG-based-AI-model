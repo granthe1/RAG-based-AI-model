{
 "cells": [
  {
   "cell_type": "code",
   "execution_count": 4,
   "metadata": {
    "colab": {
     "base_uri": "https://localhost:8080/"
    },
    "executionInfo": {
     "elapsed": 7381,
     "status": "ok",
     "timestamp": 1746367726931,
     "user": {
      "displayName": "Siru He",
      "userId": "16196108805373074692"
     },
     "user_tz": 240
    },
    "id": "JxAGoz6Q6lhw",
    "outputId": "51084b85-e186-42ab-ebbf-fb8e83143899"
   },
   "outputs": [],
   "source": [
    "!pip install -q pyautogen"
   ]
  },
  {
   "cell_type": "code",
   "execution_count": 5,
   "metadata": {
    "colab": {
     "base_uri": "https://localhost:8080/"
    },
    "executionInfo": {
     "elapsed": 6356,
     "status": "ok",
     "timestamp": 1746367742466,
     "user": {
      "displayName": "Siru He",
      "userId": "16196108805373074692"
     },
     "user_tz": 240
    },
    "id": "OZkSZJIVoK6E",
    "outputId": "313919dc-329e-444c-edae-c79f29638324",
    "scrolled": true
   },
   "outputs": [
    {
     "name": "stdout",
     "output_type": "stream",
     "text": [
      "Requirement already satisfied: langchain-community in d:\\workingsoftwares\\anaconda3\\lib\\site-packages (0.3.23)\n",
      "Requirement already satisfied: langchain-core<1.0.0,>=0.3.56 in d:\\workingsoftwares\\anaconda3\\lib\\site-packages (from langchain-community) (0.3.58)\n",
      "Requirement already satisfied: langchain<1.0.0,>=0.3.24 in d:\\workingsoftwares\\anaconda3\\lib\\site-packages (from langchain-community) (0.3.25)\n",
      "Requirement already satisfied: SQLAlchemy<3,>=1.4 in d:\\workingsoftwares\\anaconda3\\lib\\site-packages (from langchain-community) (2.0.30)\n",
      "Requirement already satisfied: requests<3,>=2 in d:\\workingsoftwares\\anaconda3\\lib\\site-packages (from langchain-community) (2.32.2)\n",
      "Requirement already satisfied: PyYAML>=5.3 in d:\\workingsoftwares\\anaconda3\\lib\\site-packages (from langchain-community) (6.0.1)\n",
      "Requirement already satisfied: aiohttp<4.0.0,>=3.8.3 in d:\\workingsoftwares\\anaconda3\\lib\\site-packages (from langchain-community) (3.9.5)\n",
      "Requirement already satisfied: tenacity!=8.4.0,<10,>=8.1.0 in d:\\workingsoftwares\\anaconda3\\lib\\site-packages (from langchain-community) (8.2.2)\n",
      "Requirement already satisfied: dataclasses-json<0.7,>=0.5.7 in d:\\workingsoftwares\\anaconda3\\lib\\site-packages (from langchain-community) (0.6.7)\n",
      "Requirement already satisfied: pydantic-settings<3.0.0,>=2.4.0 in d:\\workingsoftwares\\anaconda3\\lib\\site-packages (from langchain-community) (2.9.1)\n",
      "Requirement already satisfied: langsmith<0.4,>=0.1.125 in d:\\workingsoftwares\\anaconda3\\lib\\site-packages (from langchain-community) (0.3.42)\n",
      "Requirement already satisfied: httpx-sse<1.0.0,>=0.4.0 in d:\\workingsoftwares\\anaconda3\\lib\\site-packages (from langchain-community) (0.4.0)\n",
      "Requirement already satisfied: numpy>=1.26.2 in d:\\workingsoftwares\\anaconda3\\lib\\site-packages (from langchain-community) (1.26.4)\n",
      "Requirement already satisfied: aiosignal>=1.1.2 in d:\\workingsoftwares\\anaconda3\\lib\\site-packages (from aiohttp<4.0.0,>=3.8.3->langchain-community) (1.2.0)\n",
      "Requirement already satisfied: attrs>=17.3.0 in d:\\workingsoftwares\\anaconda3\\lib\\site-packages (from aiohttp<4.0.0,>=3.8.3->langchain-community) (23.1.0)\n",
      "Requirement already satisfied: frozenlist>=1.1.1 in d:\\workingsoftwares\\anaconda3\\lib\\site-packages (from aiohttp<4.0.0,>=3.8.3->langchain-community) (1.4.0)\n",
      "Requirement already satisfied: multidict<7.0,>=4.5 in d:\\workingsoftwares\\anaconda3\\lib\\site-packages (from aiohttp<4.0.0,>=3.8.3->langchain-community) (6.0.4)\n",
      "Requirement already satisfied: yarl<2.0,>=1.0 in d:\\workingsoftwares\\anaconda3\\lib\\site-packages (from aiohttp<4.0.0,>=3.8.3->langchain-community) (1.9.3)\n",
      "Requirement already satisfied: marshmallow<4.0.0,>=3.18.0 in d:\\workingsoftwares\\anaconda3\\lib\\site-packages (from dataclasses-json<0.7,>=0.5.7->langchain-community) (3.26.1)\n",
      "Requirement already satisfied: typing-inspect<1,>=0.4.0 in d:\\workingsoftwares\\anaconda3\\lib\\site-packages (from dataclasses-json<0.7,>=0.5.7->langchain-community) (0.9.0)\n",
      "Requirement already satisfied: langchain-text-splitters<1.0.0,>=0.3.8 in d:\\workingsoftwares\\anaconda3\\lib\\site-packages (from langchain<1.0.0,>=0.3.24->langchain-community) (0.3.8)\n",
      "Requirement already satisfied: pydantic<3.0.0,>=2.7.4 in d:\\workingsoftwares\\anaconda3\\lib\\site-packages (from langchain<1.0.0,>=0.3.24->langchain-community) (2.11.3)\n",
      "Requirement already satisfied: jsonpatch<2.0,>=1.33 in d:\\workingsoftwares\\anaconda3\\lib\\site-packages (from langchain-core<1.0.0,>=0.3.56->langchain-community) (1.33)\n",
      "Requirement already satisfied: packaging<25,>=23.2 in d:\\workingsoftwares\\anaconda3\\lib\\site-packages (from langchain-core<1.0.0,>=0.3.56->langchain-community) (23.2)\n",
      "Requirement already satisfied: typing-extensions>=4.7 in d:\\workingsoftwares\\anaconda3\\lib\\site-packages (from langchain-core<1.0.0,>=0.3.56->langchain-community) (4.13.2)\n",
      "Requirement already satisfied: httpx<1,>=0.23.0 in d:\\workingsoftwares\\anaconda3\\lib\\site-packages (from langsmith<0.4,>=0.1.125->langchain-community) (0.28.1)\n",
      "Requirement already satisfied: orjson<4.0.0,>=3.9.14 in d:\\workingsoftwares\\anaconda3\\lib\\site-packages (from langsmith<0.4,>=0.1.125->langchain-community) (3.10.15)\n",
      "Requirement already satisfied: requests-toolbelt<2.0.0,>=1.0.0 in d:\\workingsoftwares\\anaconda3\\lib\\site-packages (from langsmith<0.4,>=0.1.125->langchain-community) (1.0.0)\n",
      "Requirement already satisfied: zstandard<0.24.0,>=0.23.0 in d:\\workingsoftwares\\anaconda3\\lib\\site-packages (from langsmith<0.4,>=0.1.125->langchain-community) (0.23.0)\n",
      "Requirement already satisfied: python-dotenv>=0.21.0 in d:\\workingsoftwares\\anaconda3\\lib\\site-packages (from pydantic-settings<3.0.0,>=2.4.0->langchain-community) (0.21.0)\n",
      "Requirement already satisfied: typing-inspection>=0.4.0 in d:\\workingsoftwares\\anaconda3\\lib\\site-packages (from pydantic-settings<3.0.0,>=2.4.0->langchain-community) (0.4.0)\n",
      "Requirement already satisfied: charset-normalizer<4,>=2 in d:\\workingsoftwares\\anaconda3\\lib\\site-packages (from requests<3,>=2->langchain-community) (2.0.4)\n",
      "Requirement already satisfied: idna<4,>=2.5 in d:\\workingsoftwares\\anaconda3\\lib\\site-packages (from requests<3,>=2->langchain-community) (3.7)\n",
      "Requirement already satisfied: urllib3<3,>=1.21.1 in d:\\workingsoftwares\\anaconda3\\lib\\site-packages (from requests<3,>=2->langchain-community) (2.2.2)\n",
      "Requirement already satisfied: certifi>=2017.4.17 in d:\\workingsoftwares\\anaconda3\\lib\\site-packages (from requests<3,>=2->langchain-community) (2024.6.2)\n",
      "Requirement already satisfied: greenlet!=0.4.17 in d:\\workingsoftwares\\anaconda3\\lib\\site-packages (from SQLAlchemy<3,>=1.4->langchain-community) (3.0.1)\n",
      "Requirement already satisfied: anyio in d:\\workingsoftwares\\anaconda3\\lib\\site-packages (from httpx<1,>=0.23.0->langsmith<0.4,>=0.1.125->langchain-community) (4.2.0)\n",
      "Requirement already satisfied: httpcore==1.* in d:\\workingsoftwares\\anaconda3\\lib\\site-packages (from httpx<1,>=0.23.0->langsmith<0.4,>=0.1.125->langchain-community) (1.0.8)\n",
      "Requirement already satisfied: h11<0.15,>=0.13 in d:\\workingsoftwares\\anaconda3\\lib\\site-packages (from httpcore==1.*->httpx<1,>=0.23.0->langsmith<0.4,>=0.1.125->langchain-community) (0.14.0)\n",
      "Requirement already satisfied: jsonpointer>=1.9 in d:\\workingsoftwares\\anaconda3\\lib\\site-packages (from jsonpatch<2.0,>=1.33->langchain-core<1.0.0,>=0.3.56->langchain-community) (2.1)\n",
      "Requirement already satisfied: annotated-types>=0.6.0 in d:\\workingsoftwares\\anaconda3\\lib\\site-packages (from pydantic<3.0.0,>=2.7.4->langchain<1.0.0,>=0.3.24->langchain-community) (0.6.0)\n",
      "Requirement already satisfied: pydantic-core==2.33.1 in d:\\workingsoftwares\\anaconda3\\lib\\site-packages (from pydantic<3.0.0,>=2.7.4->langchain<1.0.0,>=0.3.24->langchain-community) (2.33.1)\n",
      "Requirement already satisfied: mypy-extensions>=0.3.0 in d:\\workingsoftwares\\anaconda3\\lib\\site-packages (from typing-inspect<1,>=0.4.0->dataclasses-json<0.7,>=0.5.7->langchain-community) (1.0.0)\n",
      "Requirement already satisfied: sniffio>=1.1 in d:\\workingsoftwares\\anaconda3\\lib\\site-packages (from anyio->httpx<1,>=0.23.0->langsmith<0.4,>=0.1.125->langchain-community) (1.3.0)\n",
      "Note: you may need to restart the kernel to use updated packages.\n"
     ]
    }
   ],
   "source": [
    "pip install -U langchain-community"
   ]
  },
  {
   "cell_type": "code",
   "execution_count": 6,
   "metadata": {
    "colab": {
     "base_uri": "https://localhost:8080/",
     "height": 1000
    },
    "executionInfo": {
     "elapsed": 37978,
     "status": "ok",
     "timestamp": 1746367571700,
     "user": {
      "displayName": "Siru He",
      "userId": "16196108805373074692"
     },
     "user_tz": 240
    },
    "id": "3AF2orOIncfD",
    "outputId": "8cfe0d08-dd88-48bb-a638-ee0eb4e1d6dc",
    "scrolled": true
   },
   "outputs": [
    {
     "name": "stdout",
     "output_type": "stream",
     "text": [
      "Requirement already satisfied: langchain in d:\\workingsoftwares\\anaconda3\\lib\\site-packages (0.3.25)\n",
      "Collecting openai\n",
      "  Using cached openai-1.77.0-py3-none-any.whl.metadata (25 kB)\n",
      "Collecting faiss-cpu\n",
      "  Using cached faiss_cpu-1.11.0-cp312-cp312-win_amd64.whl.metadata (5.0 kB)\n",
      "Collecting pypdf\n",
      "  Using cached pypdf-5.4.0-py3-none-any.whl.metadata (7.3 kB)\n",
      "Collecting unstructured\n",
      "  Using cached unstructured-0.17.2-py3-none-any.whl.metadata (24 kB)\n",
      "Collecting chromadb\n",
      "  Using cached chromadb-1.0.8-cp39-abi3-win_amd64.whl.metadata (7.0 kB)\n",
      "Requirement already satisfied: langchain-core<1.0.0,>=0.3.58 in d:\\workingsoftwares\\anaconda3\\lib\\site-packages (from langchain) (0.3.58)\n",
      "Requirement already satisfied: langchain-text-splitters<1.0.0,>=0.3.8 in d:\\workingsoftwares\\anaconda3\\lib\\site-packages (from langchain) (0.3.8)\n",
      "Requirement already satisfied: langsmith<0.4,>=0.1.17 in d:\\workingsoftwares\\anaconda3\\lib\\site-packages (from langchain) (0.3.42)\n",
      "Requirement already satisfied: pydantic<3.0.0,>=2.7.4 in d:\\workingsoftwares\\anaconda3\\lib\\site-packages (from langchain) (2.11.3)\n",
      "Requirement already satisfied: SQLAlchemy<3,>=1.4 in d:\\workingsoftwares\\anaconda3\\lib\\site-packages (from langchain) (2.0.30)\n",
      "Requirement already satisfied: requests<3,>=2 in d:\\workingsoftwares\\anaconda3\\lib\\site-packages (from langchain) (2.32.2)\n",
      "Requirement already satisfied: PyYAML>=5.3 in d:\\workingsoftwares\\anaconda3\\lib\\site-packages (from langchain) (6.0.1)\n",
      "Requirement already satisfied: anyio<5,>=3.5.0 in d:\\workingsoftwares\\anaconda3\\lib\\site-packages (from openai) (4.2.0)\n",
      "Requirement already satisfied: distro<2,>=1.7.0 in d:\\workingsoftwares\\anaconda3\\lib\\site-packages (from openai) (1.9.0)\n",
      "Requirement already satisfied: httpx<1,>=0.23.0 in d:\\workingsoftwares\\anaconda3\\lib\\site-packages (from openai) (0.28.1)\n",
      "Collecting jiter<1,>=0.4.0 (from openai)\n",
      "  Using cached jiter-0.9.0-cp312-cp312-win_amd64.whl.metadata (5.3 kB)\n",
      "Requirement already satisfied: sniffio in d:\\workingsoftwares\\anaconda3\\lib\\site-packages (from openai) (1.3.0)\n",
      "Requirement already satisfied: tqdm>4 in d:\\workingsoftwares\\anaconda3\\lib\\site-packages (from openai) (4.66.4)\n",
      "Requirement already satisfied: typing-extensions<5,>=4.11 in d:\\workingsoftwares\\anaconda3\\lib\\site-packages (from openai) (4.13.2)\n",
      "Requirement already satisfied: numpy<3.0,>=1.25.0 in d:\\workingsoftwares\\anaconda3\\lib\\site-packages (from faiss-cpu) (1.26.4)\n",
      "Requirement already satisfied: packaging in d:\\workingsoftwares\\anaconda3\\lib\\site-packages (from faiss-cpu) (23.2)\n",
      "Requirement already satisfied: chardet in d:\\workingsoftwares\\anaconda3\\lib\\site-packages (from unstructured) (4.0.0)\n",
      "Collecting filetype (from unstructured)\n",
      "  Using cached filetype-1.2.0-py2.py3-none-any.whl.metadata (6.5 kB)\n",
      "Collecting python-magic (from unstructured)\n",
      "  Using cached python_magic-0.4.27-py2.py3-none-any.whl.metadata (5.8 kB)\n",
      "Requirement already satisfied: lxml in d:\\workingsoftwares\\anaconda3\\lib\\site-packages (from unstructured) (5.2.1)\n",
      "Requirement already satisfied: nltk in d:\\workingsoftwares\\anaconda3\\lib\\site-packages (from unstructured) (3.8.1)\n",
      "Requirement already satisfied: beautifulsoup4 in d:\\workingsoftwares\\anaconda3\\lib\\site-packages (from unstructured) (4.12.3)\n",
      "Collecting emoji (from unstructured)\n",
      "  Using cached emoji-2.14.1-py3-none-any.whl.metadata (5.7 kB)\n",
      "Requirement already satisfied: dataclasses-json in d:\\workingsoftwares\\anaconda3\\lib\\site-packages (from unstructured) (0.6.7)\n",
      "Collecting python-iso639 (from unstructured)\n",
      "  Using cached python_iso639-2025.2.18-py3-none-any.whl.metadata (14 kB)\n",
      "Collecting langdetect (from unstructured)\n",
      "  Using cached langdetect-1.0.9.tar.gz (981 kB)\n",
      "  Preparing metadata (setup.py): started\n",
      "  Preparing metadata (setup.py): finished with status 'done'\n",
      "Collecting rapidfuzz (from unstructured)\n",
      "  Using cached rapidfuzz-3.13.0-cp312-cp312-win_amd64.whl.metadata (12 kB)\n",
      "Collecting backoff (from unstructured)\n",
      "  Using cached backoff-2.2.1-py3-none-any.whl.metadata (14 kB)\n",
      "Collecting unstructured-client (from unstructured)\n",
      "  Using cached unstructured_client-0.34.0-py3-none-any.whl.metadata (21 kB)\n",
      "Requirement already satisfied: wrapt in d:\\workingsoftwares\\anaconda3\\lib\\site-packages (from unstructured) (1.14.1)\n",
      "Requirement already satisfied: psutil in d:\\workingsoftwares\\anaconda3\\lib\\site-packages (from unstructured) (5.9.0)\n",
      "Collecting python-oxmsg (from unstructured)\n",
      "  Using cached python_oxmsg-0.0.2-py3-none-any.whl.metadata (5.0 kB)\n",
      "Collecting html5lib (from unstructured)\n",
      "  Using cached html5lib-1.1-py2.py3-none-any.whl.metadata (16 kB)\n",
      "Collecting build>=1.0.3 (from chromadb)\n",
      "  Using cached build-1.2.2.post1-py3-none-any.whl.metadata (6.5 kB)\n",
      "Collecting fastapi==0.115.9 (from chromadb)\n",
      "  Using cached fastapi-0.115.9-py3-none-any.whl.metadata (27 kB)\n",
      "Collecting uvicorn>=0.18.3 (from uvicorn[standard]>=0.18.3->chromadb)\n",
      "  Using cached uvicorn-0.34.2-py3-none-any.whl.metadata (6.5 kB)\n",
      "Collecting posthog>=2.4.0 (from chromadb)\n",
      "  Using cached posthog-4.0.1-py2.py3-none-any.whl.metadata (3.0 kB)\n",
      "Collecting onnxruntime>=1.14.1 (from chromadb)\n",
      "  Using cached onnxruntime-1.21.1-cp312-cp312-win_amd64.whl.metadata (4.9 kB)\n",
      "Collecting opentelemetry-api>=1.2.0 (from chromadb)\n",
      "  Using cached opentelemetry_api-1.32.1-py3-none-any.whl.metadata (1.6 kB)\n",
      "Collecting opentelemetry-exporter-otlp-proto-grpc>=1.2.0 (from chromadb)\n",
      "  Using cached opentelemetry_exporter_otlp_proto_grpc-1.32.1-py3-none-any.whl.metadata (2.5 kB)\n",
      "Collecting opentelemetry-instrumentation-fastapi>=0.41b0 (from chromadb)\n",
      "  Using cached opentelemetry_instrumentation_fastapi-0.53b1-py3-none-any.whl.metadata (2.2 kB)\n",
      "Collecting opentelemetry-sdk>=1.2.0 (from chromadb)\n",
      "  Using cached opentelemetry_sdk-1.32.1-py3-none-any.whl.metadata (1.6 kB)\n",
      "Requirement already satisfied: tokenizers>=0.13.2 in d:\\workingsoftwares\\anaconda3\\lib\\site-packages (from chromadb) (0.21.1)\n",
      "Collecting pypika>=0.48.9 (from chromadb)\n",
      "  Using cached PyPika-0.48.9.tar.gz (67 kB)\n",
      "  Installing build dependencies: started\n",
      "  Installing build dependencies: finished with status 'done'\n",
      "  Getting requirements to build wheel: started\n",
      "  Getting requirements to build wheel: finished with status 'done'\n",
      "  Preparing metadata (pyproject.toml): started\n",
      "  Preparing metadata (pyproject.toml): finished with status 'done'\n",
      "Requirement already satisfied: overrides>=7.3.1 in d:\\workingsoftwares\\anaconda3\\lib\\site-packages (from chromadb) (7.4.0)\n",
      "Collecting importlib-resources (from chromadb)\n",
      "  Using cached importlib_resources-6.5.2-py3-none-any.whl.metadata (3.9 kB)\n",
      "Requirement already satisfied: grpcio>=1.58.0 in d:\\workingsoftwares\\anaconda3\\lib\\site-packages (from chromadb) (1.71.0)\n",
      "Collecting bcrypt>=4.0.1 (from chromadb)\n",
      "  Using cached bcrypt-4.3.0-cp39-abi3-win_amd64.whl.metadata (10 kB)\n",
      "Requirement already satisfied: typer>=0.9.0 in d:\\workingsoftwares\\anaconda3\\lib\\site-packages (from chromadb) (0.15.2)\n",
      "Collecting kubernetes>=28.1.0 (from chromadb)\n",
      "  Using cached kubernetes-32.0.1-py2.py3-none-any.whl.metadata (1.7 kB)\n",
      "Collecting tenacity>=8.2.3 (from chromadb)\n",
      "  Using cached tenacity-9.1.2-py3-none-any.whl.metadata (1.2 kB)\n",
      "Collecting mmh3>=4.0.1 (from chromadb)\n",
      "  Using cached mmh3-5.1.0-cp312-cp312-win_amd64.whl.metadata (16 kB)\n",
      "Requirement already satisfied: orjson>=3.9.12 in d:\\workingsoftwares\\anaconda3\\lib\\site-packages (from chromadb) (3.10.15)\n",
      "Requirement already satisfied: rich>=10.11.0 in d:\\workingsoftwares\\anaconda3\\lib\\site-packages (from chromadb) (13.3.5)\n",
      "Requirement already satisfied: jsonschema>=4.19.0 in d:\\workingsoftwares\\anaconda3\\lib\\site-packages (from chromadb) (4.19.2)\n",
      "Collecting starlette<0.46.0,>=0.40.0 (from fastapi==0.115.9->chromadb)\n",
      "  Using cached starlette-0.45.3-py3-none-any.whl.metadata (6.3 kB)\n",
      "Requirement already satisfied: idna>=2.8 in d:\\workingsoftwares\\anaconda3\\lib\\site-packages (from anyio<5,>=3.5.0->openai) (3.7)\n",
      "Collecting pyproject_hooks (from build>=1.0.3->chromadb)\n",
      "  Using cached pyproject_hooks-1.2.0-py3-none-any.whl.metadata (1.3 kB)\n",
      "Requirement already satisfied: colorama in d:\\workingsoftwares\\anaconda3\\lib\\site-packages (from build>=1.0.3->chromadb) (0.4.6)\n",
      "Requirement already satisfied: certifi in d:\\workingsoftwares\\anaconda3\\lib\\site-packages (from httpx<1,>=0.23.0->openai) (2024.6.2)\n",
      "Requirement already satisfied: httpcore==1.* in d:\\workingsoftwares\\anaconda3\\lib\\site-packages (from httpx<1,>=0.23.0->openai) (1.0.8)\n",
      "Requirement already satisfied: h11<0.15,>=0.13 in d:\\workingsoftwares\\anaconda3\\lib\\site-packages (from httpcore==1.*->httpx<1,>=0.23.0->openai) (0.14.0)\n",
      "Requirement already satisfied: attrs>=22.2.0 in d:\\workingsoftwares\\anaconda3\\lib\\site-packages (from jsonschema>=4.19.0->chromadb) (23.1.0)\n",
      "Requirement already satisfied: jsonschema-specifications>=2023.03.6 in d:\\workingsoftwares\\anaconda3\\lib\\site-packages (from jsonschema>=4.19.0->chromadb) (2023.7.1)\n",
      "Requirement already satisfied: referencing>=0.28.4 in d:\\workingsoftwares\\anaconda3\\lib\\site-packages (from jsonschema>=4.19.0->chromadb) (0.30.2)\n",
      "Requirement already satisfied: rpds-py>=0.7.1 in d:\\workingsoftwares\\anaconda3\\lib\\site-packages (from jsonschema>=4.19.0->chromadb) (0.10.6)\n",
      "Requirement already satisfied: six>=1.9.0 in d:\\workingsoftwares\\anaconda3\\lib\\site-packages (from kubernetes>=28.1.0->chromadb) (1.16.0)\n",
      "Requirement already satisfied: python-dateutil>=2.5.3 in d:\\workingsoftwares\\anaconda3\\lib\\site-packages (from kubernetes>=28.1.0->chromadb) (2.9.0.post0)\n",
      "Collecting google-auth>=1.0.1 (from kubernetes>=28.1.0->chromadb)\n",
      "  Using cached google_auth-2.40.0-py2.py3-none-any.whl.metadata (6.2 kB)\n",
      "Requirement already satisfied: websocket-client!=0.40.0,!=0.41.*,!=0.42.*,>=0.32.0 in d:\\workingsoftwares\\anaconda3\\lib\\site-packages (from kubernetes>=28.1.0->chromadb) (1.8.0)\n",
      "Collecting requests-oauthlib (from kubernetes>=28.1.0->chromadb)\n",
      "  Using cached requests_oauthlib-2.0.0-py2.py3-none-any.whl.metadata (11 kB)\n",
      "Collecting oauthlib>=3.2.2 (from kubernetes>=28.1.0->chromadb)\n",
      "  Using cached oauthlib-3.2.2-py3-none-any.whl.metadata (7.5 kB)\n",
      "Requirement already satisfied: urllib3>=1.24.2 in d:\\workingsoftwares\\anaconda3\\lib\\site-packages (from kubernetes>=28.1.0->chromadb) (2.2.2)\n",
      "Collecting durationpy>=0.7 (from kubernetes>=28.1.0->chromadb)\n",
      "  Using cached durationpy-0.9-py3-none-any.whl.metadata (338 bytes)\n",
      "Requirement already satisfied: jsonpatch<2.0,>=1.33 in d:\\workingsoftwares\\anaconda3\\lib\\site-packages (from langchain-core<1.0.0,>=0.3.58->langchain) (1.33)\n",
      "Requirement already satisfied: requests-toolbelt<2.0.0,>=1.0.0 in d:\\workingsoftwares\\anaconda3\\lib\\site-packages (from langsmith<0.4,>=0.1.17->langchain) (1.0.0)\n",
      "Requirement already satisfied: zstandard<0.24.0,>=0.23.0 in d:\\workingsoftwares\\anaconda3\\lib\\site-packages (from langsmith<0.4,>=0.1.17->langchain) (0.23.0)\n",
      "Collecting coloredlogs (from onnxruntime>=1.14.1->chromadb)\n",
      "  Downloading coloredlogs-15.0.1-py2.py3-none-any.whl.metadata (12 kB)\n",
      "Requirement already satisfied: flatbuffers in d:\\workingsoftwares\\anaconda3\\lib\\site-packages (from onnxruntime>=1.14.1->chromadb) (25.2.10)\n",
      "Requirement already satisfied: protobuf in d:\\workingsoftwares\\anaconda3\\lib\\site-packages (from onnxruntime>=1.14.1->chromadb) (3.20.3)\n",
      "Requirement already satisfied: sympy in d:\\workingsoftwares\\anaconda3\\lib\\site-packages (from onnxruntime>=1.14.1->chromadb) (1.12)\n",
      "Collecting deprecated>=1.2.6 (from opentelemetry-api>=1.2.0->chromadb)\n",
      "  Downloading Deprecated-1.2.18-py2.py3-none-any.whl.metadata (5.7 kB)\n",
      "Requirement already satisfied: importlib-metadata<8.7.0,>=6.0 in d:\\workingsoftwares\\anaconda3\\lib\\site-packages (from opentelemetry-api>=1.2.0->chromadb) (7.0.1)\n",
      "Collecting googleapis-common-protos~=1.52 (from opentelemetry-exporter-otlp-proto-grpc>=1.2.0->chromadb)\n",
      "  Downloading googleapis_common_protos-1.70.0-py3-none-any.whl.metadata (9.3 kB)\n",
      "Collecting opentelemetry-exporter-otlp-proto-common==1.32.1 (from opentelemetry-exporter-otlp-proto-grpc>=1.2.0->chromadb)\n",
      "  Downloading opentelemetry_exporter_otlp_proto_common-1.32.1-py3-none-any.whl.metadata (1.9 kB)\n",
      "Collecting opentelemetry-proto==1.32.1 (from opentelemetry-exporter-otlp-proto-grpc>=1.2.0->chromadb)\n",
      "  Downloading opentelemetry_proto-1.32.1-py3-none-any.whl.metadata (2.4 kB)\n",
      "Collecting protobuf (from onnxruntime>=1.14.1->chromadb)\n",
      "  Downloading protobuf-5.29.4-cp310-abi3-win_amd64.whl.metadata (592 bytes)\n",
      "Collecting opentelemetry-instrumentation-asgi==0.53b1 (from opentelemetry-instrumentation-fastapi>=0.41b0->chromadb)\n",
      "  Downloading opentelemetry_instrumentation_asgi-0.53b1-py3-none-any.whl.metadata (2.1 kB)\n",
      "Collecting opentelemetry-instrumentation==0.53b1 (from opentelemetry-instrumentation-fastapi>=0.41b0->chromadb)\n",
      "  Downloading opentelemetry_instrumentation-0.53b1-py3-none-any.whl.metadata (6.8 kB)\n",
      "Collecting opentelemetry-semantic-conventions==0.53b1 (from opentelemetry-instrumentation-fastapi>=0.41b0->chromadb)\n",
      "  Downloading opentelemetry_semantic_conventions-0.53b1-py3-none-any.whl.metadata (2.5 kB)\n",
      "Collecting opentelemetry-util-http==0.53b1 (from opentelemetry-instrumentation-fastapi>=0.41b0->chromadb)\n",
      "  Downloading opentelemetry_util_http-0.53b1-py3-none-any.whl.metadata (2.6 kB)\n",
      "Collecting asgiref~=3.0 (from opentelemetry-instrumentation-asgi==0.53b1->opentelemetry-instrumentation-fastapi>=0.41b0->chromadb)\n",
      "  Downloading asgiref-3.8.1-py3-none-any.whl.metadata (9.3 kB)\n",
      "Requirement already satisfied: annotated-types>=0.6.0 in d:\\workingsoftwares\\anaconda3\\lib\\site-packages (from pydantic<3.0.0,>=2.7.4->langchain) (0.6.0)\n",
      "Requirement already satisfied: pydantic-core==2.33.1 in d:\\workingsoftwares\\anaconda3\\lib\\site-packages (from pydantic<3.0.0,>=2.7.4->langchain) (2.33.1)\n",
      "Requirement already satisfied: typing-inspection>=0.4.0 in d:\\workingsoftwares\\anaconda3\\lib\\site-packages (from pydantic<3.0.0,>=2.7.4->langchain) (0.4.0)\n",
      "Requirement already satisfied: charset-normalizer<4,>=2 in d:\\workingsoftwares\\anaconda3\\lib\\site-packages (from requests<3,>=2->langchain) (2.0.4)\n",
      "Requirement already satisfied: markdown-it-py<3.0.0,>=2.2.0 in d:\\workingsoftwares\\anaconda3\\lib\\site-packages (from rich>=10.11.0->chromadb) (2.2.0)\n",
      "Requirement already satisfied: pygments<3.0.0,>=2.13.0 in d:\\workingsoftwares\\anaconda3\\lib\\site-packages (from rich>=10.11.0->chromadb) (2.15.1)\n",
      "Requirement already satisfied: greenlet!=0.4.17 in d:\\workingsoftwares\\anaconda3\\lib\\site-packages (from SQLAlchemy<3,>=1.4->langchain) (3.0.1)\n",
      "Requirement already satisfied: huggingface-hub<1.0,>=0.16.4 in d:\\workingsoftwares\\anaconda3\\lib\\site-packages (from tokenizers>=0.13.2->chromadb) (0.29.3)\n",
      "Requirement already satisfied: click>=8.0.0 in d:\\workingsoftwares\\anaconda3\\lib\\site-packages (from typer>=0.9.0->chromadb) (8.1.7)\n",
      "Requirement already satisfied: shellingham>=1.3.0 in d:\\workingsoftwares\\anaconda3\\lib\\site-packages (from typer>=0.9.0->chromadb) (1.5.4)\n",
      "Collecting httptools>=0.6.3 (from uvicorn[standard]>=0.18.3->chromadb)\n",
      "  Downloading httptools-0.6.4-cp312-cp312-win_amd64.whl.metadata (3.7 kB)\n",
      "Requirement already satisfied: python-dotenv>=0.13 in d:\\workingsoftwares\\anaconda3\\lib\\site-packages (from uvicorn[standard]>=0.18.3->chromadb) (0.21.0)\n",
      "Collecting watchfiles>=0.13 (from uvicorn[standard]>=0.18.3->chromadb)\n",
      "  Downloading watchfiles-1.0.5-cp312-cp312-win_amd64.whl.metadata (5.0 kB)\n",
      "Collecting websockets>=10.4 (from uvicorn[standard]>=0.18.3->chromadb)\n",
      "  Downloading websockets-15.0.1-cp312-cp312-win_amd64.whl.metadata (7.0 kB)\n",
      "Requirement already satisfied: soupsieve>1.2 in d:\\workingsoftwares\\anaconda3\\lib\\site-packages (from beautifulsoup4->unstructured) (2.5)\n",
      "Requirement already satisfied: marshmallow<4.0.0,>=3.18.0 in d:\\workingsoftwares\\anaconda3\\lib\\site-packages (from dataclasses-json->unstructured) (3.26.1)\n",
      "Requirement already satisfied: typing-inspect<1,>=0.4.0 in d:\\workingsoftwares\\anaconda3\\lib\\site-packages (from dataclasses-json->unstructured) (0.9.0)\n",
      "Requirement already satisfied: webencodings in d:\\workingsoftwares\\anaconda3\\lib\\site-packages (from html5lib->unstructured) (0.5.1)\n",
      "Requirement already satisfied: joblib in d:\\workingsoftwares\\anaconda3\\lib\\site-packages (from nltk->unstructured) (1.3.2)\n",
      "Requirement already satisfied: regex>=2021.8.3 in d:\\workingsoftwares\\anaconda3\\lib\\site-packages (from nltk->unstructured) (2023.10.3)\n",
      "Collecting olefile (from python-oxmsg->unstructured)\n",
      "  Downloading olefile-0.47-py2.py3-none-any.whl.metadata (9.7 kB)\n",
      "Collecting aiofiles>=24.1.0 (from unstructured-client->unstructured)\n",
      "  Downloading aiofiles-24.1.0-py3-none-any.whl.metadata (10 kB)\n",
      "Requirement already satisfied: cryptography>=3.1 in d:\\workingsoftwares\\anaconda3\\lib\\site-packages (from unstructured-client->unstructured) (42.0.5)\n",
      "Collecting eval-type-backport>=0.2.0 (from unstructured-client->unstructured)\n",
      "  Downloading eval_type_backport-0.2.2-py3-none-any.whl.metadata (2.2 kB)\n",
      "Requirement already satisfied: nest-asyncio>=1.6.0 in d:\\workingsoftwares\\anaconda3\\lib\\site-packages (from unstructured-client->unstructured) (1.6.0)\n",
      "Requirement already satisfied: cffi>=1.12 in d:\\workingsoftwares\\anaconda3\\lib\\site-packages (from cryptography>=3.1->unstructured-client->unstructured) (1.16.0)\n",
      "Requirement already satisfied: cachetools<6.0,>=2.0.0 in d:\\workingsoftwares\\anaconda3\\lib\\site-packages (from google-auth>=1.0.1->kubernetes>=28.1.0->chromadb) (5.3.3)\n",
      "Requirement already satisfied: pyasn1-modules>=0.2.1 in d:\\workingsoftwares\\anaconda3\\lib\\site-packages (from google-auth>=1.0.1->kubernetes>=28.1.0->chromadb) (0.2.8)\n",
      "Collecting rsa<5,>=3.1.4 (from google-auth>=1.0.1->kubernetes>=28.1.0->chromadb)\n",
      "  Downloading rsa-4.9.1-py3-none-any.whl.metadata (5.6 kB)\n",
      "Requirement already satisfied: filelock in d:\\workingsoftwares\\anaconda3\\lib\\site-packages (from huggingface-hub<1.0,>=0.16.4->tokenizers>=0.13.2->chromadb) (3.13.1)\n",
      "Requirement already satisfied: fsspec>=2023.5.0 in d:\\workingsoftwares\\anaconda3\\lib\\site-packages (from huggingface-hub<1.0,>=0.16.4->tokenizers>=0.13.2->chromadb) (2024.3.1)\n",
      "Requirement already satisfied: zipp>=0.5 in d:\\workingsoftwares\\anaconda3\\lib\\site-packages (from importlib-metadata<8.7.0,>=6.0->opentelemetry-api>=1.2.0->chromadb) (3.17.0)\n",
      "Requirement already satisfied: jsonpointer>=1.9 in d:\\workingsoftwares\\anaconda3\\lib\\site-packages (from jsonpatch<2.0,>=1.33->langchain-core<1.0.0,>=0.3.58->langchain) (2.1)\n",
      "Requirement already satisfied: mdurl~=0.1 in d:\\workingsoftwares\\anaconda3\\lib\\site-packages (from markdown-it-py<3.0.0,>=2.2.0->rich>=10.11.0->chromadb) (0.1.0)\n",
      "Requirement already satisfied: mypy-extensions>=0.3.0 in d:\\workingsoftwares\\anaconda3\\lib\\site-packages (from typing-inspect<1,>=0.4.0->dataclasses-json->unstructured) (1.0.0)\n",
      "Collecting humanfriendly>=9.1 (from coloredlogs->onnxruntime>=1.14.1->chromadb)\n",
      "  Downloading humanfriendly-10.0-py2.py3-none-any.whl.metadata (9.2 kB)\n",
      "Requirement already satisfied: mpmath>=0.19 in d:\\workingsoftwares\\anaconda3\\lib\\site-packages (from sympy->onnxruntime>=1.14.1->chromadb) (1.3.0)\n",
      "Requirement already satisfied: pycparser in d:\\workingsoftwares\\anaconda3\\lib\\site-packages (from cffi>=1.12->cryptography>=3.1->unstructured-client->unstructured) (2.21)\n",
      "Collecting pyreadline3 (from humanfriendly>=9.1->coloredlogs->onnxruntime>=1.14.1->chromadb)\n",
      "  Downloading pyreadline3-3.5.4-py3-none-any.whl.metadata (4.7 kB)\n",
      "Requirement already satisfied: pyasn1<0.5.0,>=0.4.6 in d:\\workingsoftwares\\anaconda3\\lib\\site-packages (from pyasn1-modules>=0.2.1->google-auth>=1.0.1->kubernetes>=28.1.0->chromadb) (0.4.8)\n",
      "Downloading openai-1.77.0-py3-none-any.whl (662 kB)\n",
      "   ---------------------------------------- 0.0/662.0 kB ? eta -:--:--\n",
      "   ------------- -------------------------- 225.3/662.0 kB 6.9 MB/s eta 0:00:01\n",
      "   ----------------------------- ---------- 481.3/662.0 kB 6.0 MB/s eta 0:00:01\n",
      "   ----------------------------- ---------- 481.3/662.0 kB 6.0 MB/s eta 0:00:01\n",
      "   ----------------------------- ---------- 481.3/662.0 kB 6.0 MB/s eta 0:00:01\n",
      "   -------------------------------- ------- 532.5/662.0 kB 2.4 MB/s eta 0:00:01\n",
      "   ---------------------------------------  655.4/662.0 kB 2.8 MB/s eta 0:00:01\n",
      "   ---------------------------------------- 662.0/662.0 kB 2.2 MB/s eta 0:00:00\n",
      "Downloading faiss_cpu-1.11.0-cp312-cp312-win_amd64.whl (15.0 MB)\n",
      "   ---------------------------------------- 0.0/15.0 MB ? eta -:--:--\n",
      "    --------------------------------------- 0.3/15.0 MB 16.4 MB/s eta 0:00:01\n",
      "   - -------------------------------------- 0.6/15.0 MB 8.9 MB/s eta 0:00:02\n",
      "   - -------------------------------------- 0.6/15.0 MB 5.3 MB/s eta 0:00:03\n",
      "   - -------------------------------------- 0.6/15.0 MB 5.0 MB/s eta 0:00:03\n",
      "   - -------------------------------------- 0.6/15.0 MB 5.0 MB/s eta 0:00:03\n",
      "   - -------------------------------------- 0.6/15.0 MB 5.0 MB/s eta 0:00:03\n",
      "   -- ------------------------------------- 0.9/15.0 MB 3.2 MB/s eta 0:00:05\n",
      "   -- ------------------------------------- 1.1/15.0 MB 2.8 MB/s eta 0:00:05\n",
      "   -- ------------------------------------- 1.1/15.0 MB 2.8 MB/s eta 0:00:05\n",
      "   -- ------------------------------------- 1.1/15.0 MB 2.8 MB/s eta 0:00:05\n",
      "   --- ------------------------------------ 1.3/15.0 MB 2.7 MB/s eta 0:00:06\n",
      "   ---- ----------------------------------- 1.6/15.0 MB 2.8 MB/s eta 0:00:05\n",
      "   ------ --------------------------------- 2.6/15.0 MB 4.1 MB/s eta 0:00:03\n",
      "   ---------- ----------------------------- 3.8/15.0 MB 5.6 MB/s eta 0:00:03\n",
      "   ----------- ---------------------------- 4.2/15.0 MB 6.2 MB/s eta 0:00:02\n",
      "   ----------- ---------------------------- 4.2/15.0 MB 6.2 MB/s eta 0:00:02\n",
      "   ----------- ---------------------------- 4.2/15.0 MB 6.2 MB/s eta 0:00:02\n",
      "   ------------- -------------------------- 5.1/15.0 MB 5.9 MB/s eta 0:00:02\n",
      "   -------------- ------------------------- 5.6/15.0 MB 6.1 MB/s eta 0:00:02\n",
      "   -------------- ------------------------- 5.6/15.0 MB 6.0 MB/s eta 0:00:02\n",
      "   -------------- ------------------------- 5.6/15.0 MB 6.0 MB/s eta 0:00:02\n",
      "   ---------------- ----------------------- 6.1/15.0 MB 5.8 MB/s eta 0:00:02\n",
      "   ------------------ --------------------- 7.1/15.0 MB 6.4 MB/s eta 0:00:02\n",
      "   ------------------ --------------------- 7.1/15.0 MB 6.5 MB/s eta 0:00:02\n",
      "   ------------------ --------------------- 7.1/15.0 MB 6.5 MB/s eta 0:00:02\n",
      "   ------------------- -------------------- 7.4/15.0 MB 5.7 MB/s eta 0:00:02\n",
      "   -------------------- ------------------- 7.6/15.0 MB 5.6 MB/s eta 0:00:02\n",
      "   -------------------- ------------------- 7.6/15.0 MB 5.6 MB/s eta 0:00:02\n",
      "   --------------------- ------------------ 7.9/15.0 MB 5.4 MB/s eta 0:00:02\n",
      "   ---------------------- ----------------- 8.5/15.0 MB 5.6 MB/s eta 0:00:02\n",
      "   ---------------------- ----------------- 8.5/15.0 MB 5.6 MB/s eta 0:00:02\n",
      "   ---------------------- ----------------- 8.5/15.0 MB 5.6 MB/s eta 0:00:02\n",
      "   ------------------------ --------------- 9.4/15.0 MB 5.6 MB/s eta 0:00:02\n",
      "   --------------------------- ------------ 10.4/15.0 MB 6.0 MB/s eta 0:00:01\n",
      "   --------------------------- ------------ 10.4/15.0 MB 6.0 MB/s eta 0:00:01\n",
      "   --------------------------- ------------ 10.4/15.0 MB 6.0 MB/s eta 0:00:01\n",
      "   ---------------------------- ----------- 10.8/15.0 MB 5.7 MB/s eta 0:00:01\n",
      "   ------------------------------- -------- 11.8/15.0 MB 7.8 MB/s eta 0:00:01\n",
      "   -------------------------------- ------- 12.3/15.0 MB 7.8 MB/s eta 0:00:01\n",
      "   --------------------------------- ------ 12.7/15.0 MB 7.6 MB/s eta 0:00:01\n",
      "   ---------------------------------- ----- 13.0/15.0 MB 7.2 MB/s eta 0:00:01\n",
      "   ------------------------------------ --- 13.7/15.0 MB 7.3 MB/s eta 0:00:01\n",
      "   ------------------------------------- -- 13.9/15.0 MB 7.1 MB/s eta 0:00:01\n",
      "   -------------------------------------- - 14.5/15.0 MB 6.8 MB/s eta 0:00:01\n",
      "   ---------------------------------------  15.0/15.0 MB 7.6 MB/s eta 0:00:01\n",
      "   ---------------------------------------  15.0/15.0 MB 7.6 MB/s eta 0:00:01\n",
      "   ---------------------------------------- 15.0/15.0 MB 7.0 MB/s eta 0:00:00\n",
      "Downloading pypdf-5.4.0-py3-none-any.whl (302 kB)\n",
      "   ---------------------------------------- 0.0/302.3 kB ? eta -:--:--\n",
      "   ---------------------------------------- 302.3/302.3 kB 9.4 MB/s eta 0:00:00\n",
      "Downloading unstructured-0.17.2-py3-none-any.whl (1.8 MB)\n",
      "   ---------------------------------------- 0.0/1.8 MB ? eta -:--:--\n",
      "   -------- ------------------------------- 0.4/1.8 MB 11.2 MB/s eta 0:00:01\n",
      "   ---------------------------- ----------- 1.3/1.8 MB 20.0 MB/s eta 0:00:01\n",
      "   ---------------------------- ----------- 1.3/1.8 MB 20.0 MB/s eta 0:00:01\n",
      "   ---------------------------- ----------- 1.3/1.8 MB 20.0 MB/s eta 0:00:01\n",
      "   ---------------------------------------  1.8/1.8 MB 9.4 MB/s eta 0:00:01\n",
      "   ---------------------------------------  1.8/1.8 MB 9.4 MB/s eta 0:00:01\n",
      "   ---------------------------------------- 1.8/1.8 MB 5.6 MB/s eta 0:00:00\n",
      "Downloading chromadb-1.0.8-cp39-abi3-win_amd64.whl (18.8 MB)\n",
      "   ---------------------------------------- 0.0/18.8 MB ? eta -:--:--\n",
      "   -- ------------------------------------- 1.4/18.8 MB 42.6 MB/s eta 0:00:01\n",
      "   --- ------------------------------------ 1.8/18.8 MB 23.5 MB/s eta 0:00:01\n",
      "   ----- ---------------------------------- 2.5/18.8 MB 19.7 MB/s eta 0:00:01\n",
      "   ------- -------------------------------- 3.6/18.8 MB 21.0 MB/s eta 0:00:01\n",
      "   ----------- ---------------------------- 5.4/18.8 MB 24.8 MB/s eta 0:00:01\n",
      "   ---------------- ----------------------- 7.8/18.8 MB 27.7 MB/s eta 0:00:01\n",
      "   ------------------- -------------------- 9.0/18.8 MB 27.5 MB/s eta 0:00:01\n",
      "   ---------------------- ----------------- 10.4/18.8 MB 29.7 MB/s eta 0:00:01\n",
      "   ------------------------ --------------- 11.6/18.8 MB 29.7 MB/s eta 0:00:01\n",
      "   --------------------------- ------------ 13.0/18.8 MB 31.2 MB/s eta 0:00:01\n",
      "   ------------------------------ --------- 14.5/18.8 MB 32.7 MB/s eta 0:00:01\n",
      "   ---------------------------------- ----- 16.2/18.8 MB 31.2 MB/s eta 0:00:01\n",
      "   ------------------------------------ --- 17.3/18.8 MB 29.7 MB/s eta 0:00:01\n",
      "   ---------------------------------------  18.8/18.8 MB 29.7 MB/s eta 0:00:01\n",
      "   ---------------------------------------  18.8/18.8 MB 29.7 MB/s eta 0:00:01\n",
      "   ---------------------------------------  18.8/18.8 MB 29.7 MB/s eta 0:00:01\n",
      "   ---------------------------------------  18.8/18.8 MB 29.7 MB/s eta 0:00:01\n",
      "   ---------------------------------------- 18.8/18.8 MB 20.5 MB/s eta 0:00:00\n",
      "Downloading fastapi-0.115.9-py3-none-any.whl (94 kB)\n",
      "   ---------------------------------------- 0.0/94.9 kB ? eta -:--:--\n",
      "   ---------------------------------------- 94.9/94.9 kB 5.6 MB/s eta 0:00:00\n",
      "Downloading bcrypt-4.3.0-cp39-abi3-win_amd64.whl (152 kB)\n",
      "   ---------------------------------------- 0.0/152.8 kB ? eta -:--:--\n",
      "   ---------------------------------------- 152.8/152.8 kB 8.9 MB/s eta 0:00:00\n",
      "Downloading build-1.2.2.post1-py3-none-any.whl (22 kB)\n",
      "Downloading jiter-0.9.0-cp312-cp312-win_amd64.whl (207 kB)\n",
      "   ---------------------------------------- 0.0/208.0 kB ? eta -:--:--\n",
      "   ---------------------------------------- 208.0/208.0 kB 6.4 MB/s eta 0:00:00\n",
      "Downloading kubernetes-32.0.1-py2.py3-none-any.whl (2.0 MB)\n",
      "   ---------------------------------------- 0.0/2.0 MB ? eta -:--:--\n",
      "   ---------------------------------------  2.0/2.0 MB 43.0 MB/s eta 0:00:01\n",
      "   ---------------------------------------- 2.0/2.0 MB 31.9 MB/s eta 0:00:00\n",
      "Downloading mmh3-5.1.0-cp312-cp312-win_amd64.whl (41 kB)\n",
      "   ---------------------------------------- 0.0/41.5 kB ? eta -:--:--\n",
      "   ---------------------------------------  41.0/41.5 kB ? eta -:--:--\n",
      "   ---------------------------------------- 41.5/41.5 kB 200.4 kB/s eta 0:00:00\n",
      "Downloading onnxruntime-1.21.1-cp312-cp312-win_amd64.whl (12.3 MB)\n",
      "   ---------------------------------------- 0.0/12.3 MB ? eta -:--:--\n",
      "   - -------------------------------------- 0.5/12.3 MB 11.6 MB/s eta 0:00:02\n",
      "   -------- ------------------------------- 2.6/12.3 MB 28.1 MB/s eta 0:00:01\n",
      "   ------------ --------------------------- 4.0/12.3 MB 28.2 MB/s eta 0:00:01\n",
      "   ----------------- ---------------------- 5.4/12.3 MB 28.6 MB/s eta 0:00:01\n",
      "   ---------------------- ----------------- 6.8/12.3 MB 28.9 MB/s eta 0:00:01\n",
      "   ------------------------- -------------- 8.0/12.3 MB 28.3 MB/s eta 0:00:01\n",
      "   ------------------------------ --------- 9.3/12.3 MB 28.2 MB/s eta 0:00:01\n",
      "   ---------------------------------- ----- 10.5/12.3 MB 29.7 MB/s eta 0:00:01\n",
      "   -------------------------------------- - 11.9/12.3 MB 29.8 MB/s eta 0:00:01\n",
      "   ---------------------------------------  12.3/12.3 MB 29.8 MB/s eta 0:00:01\n",
      "   ---------------------------------------  12.3/12.3 MB 29.8 MB/s eta 0:00:01\n",
      "   ---------------------------------------- 12.3/12.3 MB 22.6 MB/s eta 0:00:00\n",
      "Downloading opentelemetry_api-1.32.1-py3-none-any.whl (65 kB)\n",
      "   ---------------------------------------- 0.0/65.3 kB ? eta -:--:--\n",
      "   ---------------------------------------- 65.3/65.3 kB 3.4 MB/s eta 0:00:00\n",
      "Downloading opentelemetry_exporter_otlp_proto_grpc-1.32.1-py3-none-any.whl (18 kB)\n",
      "Downloading opentelemetry_exporter_otlp_proto_common-1.32.1-py3-none-any.whl (18 kB)\n",
      "Downloading opentelemetry_proto-1.32.1-py3-none-any.whl (55 kB)\n",
      "   ---------------------------------------- 0.0/55.9 kB ? eta -:--:--\n",
      "   ---------------------------------------- 55.9/55.9 kB 2.9 MB/s eta 0:00:00\n",
      "Downloading opentelemetry_instrumentation_fastapi-0.53b1-py3-none-any.whl (12 kB)\n",
      "Downloading opentelemetry_instrumentation-0.53b1-py3-none-any.whl (30 kB)\n",
      "Downloading opentelemetry_instrumentation_asgi-0.53b1-py3-none-any.whl (16 kB)\n",
      "Downloading opentelemetry_semantic_conventions-0.53b1-py3-none-any.whl (188 kB)\n",
      "   ---------------------------------------- 0.0/188.4 kB ? eta -:--:--\n",
      "   ---------------------------------------- 188.4/188.4 kB 5.6 MB/s eta 0:00:00\n",
      "Downloading opentelemetry_util_http-0.53b1-py3-none-any.whl (7.3 kB)\n",
      "Downloading opentelemetry_sdk-1.32.1-py3-none-any.whl (118 kB)\n",
      "   ---------------------------------------- 0.0/119.0 kB ? eta -:--:--\n",
      "   ---------------------------------------- 119.0/119.0 kB 3.5 MB/s eta 0:00:00\n",
      "Downloading posthog-4.0.1-py2.py3-none-any.whl (92 kB)\n",
      "   ---------------------------------------- 0.0/92.0 kB ? eta -:--:--\n",
      "   ---------------------------------------- 92.0/92.0 kB 5.1 MB/s eta 0:00:00\n",
      "Downloading backoff-2.2.1-py3-none-any.whl (15 kB)\n",
      "Downloading tenacity-9.1.2-py3-none-any.whl (28 kB)\n",
      "Downloading uvicorn-0.34.2-py3-none-any.whl (62 kB)\n",
      "   ---------------------------------------- 0.0/62.5 kB ? eta -:--:--\n",
      "   ---------------------------------------- 62.5/62.5 kB 1.6 MB/s eta 0:00:00\n",
      "Downloading emoji-2.14.1-py3-none-any.whl (590 kB)\n",
      "   ---------------------------------------- 0.0/590.6 kB ? eta -:--:--\n",
      "   --------------------------------------  583.7/590.6 kB 35.8 MB/s eta 0:00:01\n",
      "   --------------------------------------- 590.6/590.6 kB 12.3 MB/s eta 0:00:00\n",
      "Downloading filetype-1.2.0-py2.py3-none-any.whl (19 kB)\n",
      "Using cached html5lib-1.1-py2.py3-none-any.whl (112 kB)\n",
      "Downloading importlib_resources-6.5.2-py3-none-any.whl (37 kB)\n",
      "Downloading python_iso639-2025.2.18-py3-none-any.whl (167 kB)\n",
      "   ---------------------------------------- 0.0/167.6 kB ? eta -:--:--\n",
      "   ---------------------------------------- 167.6/167.6 kB 9.8 MB/s eta 0:00:00\n",
      "Downloading python_magic-0.4.27-py2.py3-none-any.whl (13 kB)\n",
      "Downloading python_oxmsg-0.0.2-py3-none-any.whl (31 kB)\n",
      "Downloading rapidfuzz-3.13.0-cp312-cp312-win_amd64.whl (1.6 MB)\n",
      "   ---------------------------------------- 0.0/1.6 MB ? eta -:--:--\n",
      "   ----------- ---------------------------- 0.5/1.6 MB 3.8 MB/s eta 0:00:01\n",
      "   ----------------------------- ---------- 1.2/1.6 MB 5.3 MB/s eta 0:00:01\n",
      "   ---------------------------------------  1.6/1.6 MB 6.4 MB/s eta 0:00:01\n",
      "   ---------------------------------------- 1.6/1.6 MB 5.7 MB/s eta 0:00:00\n",
      "Downloading unstructured_client-0.34.0-py3-none-any.whl (189 kB)\n",
      "   ---------------------------------------- 0.0/189.4 kB ? eta -:--:--\n",
      "   ---------------------------------------- 189.4/189.4 kB 5.8 MB/s eta 0:00:00\n",
      "Downloading aiofiles-24.1.0-py3-none-any.whl (15 kB)\n",
      "Downloading Deprecated-1.2.18-py2.py3-none-any.whl (10.0 kB)\n",
      "Downloading durationpy-0.9-py3-none-any.whl (3.5 kB)\n",
      "Downloading eval_type_backport-0.2.2-py3-none-any.whl (5.8 kB)\n",
      "Downloading google_auth-2.40.0-py2.py3-none-any.whl (216 kB)\n",
      "   ---------------------------------------- 0.0/216.0 kB ? eta -:--:--\n",
      "   ---------------------------------------- 216.0/216.0 kB 6.6 MB/s eta 0:00:00\n",
      "Downloading googleapis_common_protos-1.70.0-py3-none-any.whl (294 kB)\n",
      "   ---------------------------------------- 0.0/294.5 kB ? eta -:--:--\n",
      "   ---------------------------------------- 294.5/294.5 kB 9.2 MB/s eta 0:00:00\n",
      "Downloading httptools-0.6.4-cp312-cp312-win_amd64.whl (88 kB)\n",
      "   ---------------------------------------- 0.0/88.6 kB ? eta -:--:--\n",
      "   ---------------------------------------- 88.6/88.6 kB 2.5 MB/s eta 0:00:00\n",
      "Downloading oauthlib-3.2.2-py3-none-any.whl (151 kB)\n",
      "   ---------------------------------------- 0.0/151.7 kB ? eta -:--:--\n",
      "   ---------------------------------------- 151.7/151.7 kB 9.4 MB/s eta 0:00:00\n",
      "Downloading protobuf-5.29.4-cp310-abi3-win_amd64.whl (434 kB)\n",
      "   ---------------------------------------- 0.0/434.5 kB ? eta -:--:--\n",
      "   --------------------------------------- 434.5/434.5 kB 13.7 MB/s eta 0:00:00\n",
      "Downloading starlette-0.45.3-py3-none-any.whl (71 kB)\n",
      "   ---------------------------------------- 0.0/71.5 kB ? eta -:--:--\n",
      "   ---------------------------------------- 71.5/71.5 kB 1.9 MB/s eta 0:00:00\n",
      "Downloading watchfiles-1.0.5-cp312-cp312-win_amd64.whl (291 kB)\n",
      "   ---------------------------------------- 0.0/291.7 kB ? eta -:--:--\n",
      "   --------------------------------------  286.7/291.7 kB 17.3 MB/s eta 0:00:01\n",
      "   ---------------------------------------- 291.7/291.7 kB 9.1 MB/s eta 0:00:00\n",
      "Downloading websockets-15.0.1-cp312-cp312-win_amd64.whl (176 kB)\n",
      "   ---------------------------------------- 0.0/176.8 kB ? eta -:--:--\n",
      "   ---------------------------------------- 176.8/176.8 kB 5.2 MB/s eta 0:00:00\n",
      "Downloading coloredlogs-15.0.1-py2.py3-none-any.whl (46 kB)\n",
      "   ---------------------------------------- 0.0/46.0 kB ? eta -:--:--\n",
      "   ---------------------------------------- 46.0/46.0 kB 2.2 MB/s eta 0:00:00\n",
      "Downloading olefile-0.47-py2.py3-none-any.whl (114 kB)\n",
      "   ---------------------------------------- 0.0/114.6 kB ? eta -:--:--\n",
      "   ---------------------------------------- 114.6/114.6 kB 7.0 MB/s eta 0:00:00\n",
      "Downloading pyproject_hooks-1.2.0-py3-none-any.whl (10 kB)\n",
      "Downloading requests_oauthlib-2.0.0-py2.py3-none-any.whl (24 kB)\n",
      "Downloading asgiref-3.8.1-py3-none-any.whl (23 kB)\n",
      "Downloading humanfriendly-10.0-py2.py3-none-any.whl (86 kB)\n",
      "   ---------------------------------------- 0.0/86.8 kB ? eta -:--:--\n",
      "   ---------------------------------------- 86.8/86.8 kB 4.8 MB/s eta 0:00:00\n",
      "Downloading rsa-4.9.1-py3-none-any.whl (34 kB)\n",
      "Downloading pyreadline3-3.5.4-py3-none-any.whl (83 kB)\n",
      "   ---------------------------------------- 0.0/83.2 kB ? eta -:--:--\n",
      "   ---------------------------------------- 83.2/83.2 kB 4.9 MB/s eta 0:00:00\n",
      "Building wheels for collected packages: pypika, langdetect\n",
      "  Building wheel for pypika (pyproject.toml): started\n",
      "  Building wheel for pypika (pyproject.toml): finished with status 'done'\n",
      "  Created wheel for pypika: filename=pypika-0.48.9-py2.py3-none-any.whl size=53916 sha256=52acb62dc38ed468d83e2783232890d583a6a2b655dd12153bf2ed177e7dcc48\n",
      "  Stored in directory: c:\\users\\11944\\appdata\\local\\pip\\cache\\wheels\\d5\\3d\\69\\8d68d249cd3de2584f226e27fd431d6344f7d70fd856ebd01b\n",
      "  Building wheel for langdetect (setup.py): started\n",
      "  Building wheel for langdetect (setup.py): finished with status 'done'\n",
      "  Created wheel for langdetect: filename=langdetect-1.0.9-py3-none-any.whl size=993255 sha256=d92f30bcae8eeeab9ee41e40880659e70e0bfdc3cc9b4f5707a996860ea8ce0f\n",
      "  Stored in directory: c:\\users\\11944\\appdata\\local\\pip\\cache\\wheels\\c1\\67\\88\\e844b5b022812e15a52e4eaa38a1e709e99f06f6639d7e3ba7\n",
      "Successfully built pypika langdetect\n",
      "Installing collected packages: pypika, filetype, durationpy, websockets, tenacity, rsa, rapidfuzz, python-magic, python-iso639, pyreadline3, pyproject_hooks, pypdf, protobuf, opentelemetry-util-http, olefile, oauthlib, mmh3, langdetect, jiter, importlib-resources, httptools, html5lib, faiss-cpu, eval-type-backport, emoji, deprecated, bcrypt, backoff, asgiref, aiofiles, watchfiles, uvicorn, starlette, requests-oauthlib, python-oxmsg, posthog, opentelemetry-proto, opentelemetry-api, humanfriendly, googleapis-common-protos, google-auth, build, unstructured-client, opentelemetry-semantic-conventions, opentelemetry-exporter-otlp-proto-common, openai, kubernetes, fastapi, coloredlogs, unstructured, opentelemetry-sdk, opentelemetry-instrumentation, onnxruntime, opentelemetry-instrumentation-asgi, opentelemetry-exporter-otlp-proto-grpc, opentelemetry-instrumentation-fastapi, chromadb\n",
      "  Attempting uninstall: tenacity\n",
      "    Found existing installation: tenacity 8.2.2\n",
      "    Uninstalling tenacity-8.2.2:\n",
      "      Successfully uninstalled tenacity-8.2.2\n",
      "  Attempting uninstall: protobuf\n",
      "    Found existing installation: protobuf 3.20.3\n",
      "    Uninstalling protobuf-3.20.3:\n",
      "      Successfully uninstalled protobuf-3.20.3\n",
      "  Attempting uninstall: bcrypt\n",
      "    Found existing installation: bcrypt 3.2.0\n",
      "    Uninstalling bcrypt-3.2.0:\n",
      "      Successfully uninstalled bcrypt-3.2.0\n",
      "Successfully installed aiofiles-24.1.0 asgiref-3.8.1 backoff-2.2.1 bcrypt-4.3.0 build-1.2.2.post1 chromadb-1.0.8 coloredlogs-15.0.1 deprecated-1.2.18 durationpy-0.9 emoji-2.14.1 eval-type-backport-0.2.2 faiss-cpu-1.11.0 fastapi-0.115.9 filetype-1.2.0 google-auth-2.40.0 googleapis-common-protos-1.70.0 html5lib-1.1 httptools-0.6.4 humanfriendly-10.0 importlib-resources-6.5.2 jiter-0.9.0 kubernetes-32.0.1 langdetect-1.0.9 mmh3-5.1.0 oauthlib-3.2.2 olefile-0.47 onnxruntime-1.21.1 openai-1.77.0 opentelemetry-api-1.32.1 opentelemetry-exporter-otlp-proto-common-1.32.1 opentelemetry-exporter-otlp-proto-grpc-1.32.1 opentelemetry-instrumentation-0.53b1 opentelemetry-instrumentation-asgi-0.53b1 opentelemetry-instrumentation-fastapi-0.53b1 opentelemetry-proto-1.32.1 opentelemetry-sdk-1.32.1 opentelemetry-semantic-conventions-0.53b1 opentelemetry-util-http-0.53b1 posthog-4.0.1 protobuf-5.29.4 pypdf-5.4.0 pypika-0.48.9 pyproject_hooks-1.2.0 pyreadline3-3.5.4 python-iso639-2025.2.18 python-magic-0.4.27 python-oxmsg-0.0.2 rapidfuzz-3.13.0 requests-oauthlib-2.0.0 rsa-4.9.1 starlette-0.45.3 tenacity-9.1.2 unstructured-0.17.2 unstructured-client-0.34.0 uvicorn-0.34.2 watchfiles-1.0.5 websockets-15.0.1\n",
      "Note: you may need to restart the kernel to use updated packages.\n"
     ]
    },
    {
     "name": "stderr",
     "output_type": "stream",
     "text": [
      "ERROR: pip's dependency resolver does not currently take into account all the packages that are installed. This behaviour is the source of the following dependency conflicts.\n",
      "streamlit 1.32.0 requires protobuf<5,>=3.20, but you have protobuf 5.29.4 which is incompatible.\n",
      "streamlit 1.32.0 requires tenacity<9,>=8.1.0, but you have tenacity 9.1.2 which is incompatible.\n"
     ]
    }
   ],
   "source": [
    "pip install langchain openai faiss-cpu pypdf unstructured chromadb"
   ]
  },
  {
   "cell_type": "code",
   "execution_count": 9,
   "metadata": {
    "id": "NycWqfZ8TjL_"
   },
   "outputs": [],
   "source": [
    "pdf_folder = \"./Sample_Files\"\n",
    "xlsx_folder = \"./Sample_Files\""
   ]
  },
  {
   "cell_type": "code",
   "execution_count": 10,
   "metadata": {
    "id": "h-pTRZwo6pRt"
   },
   "outputs": [],
   "source": [
    "import os\n",
    "os.environ[\"OPENAI_API_KEY\"]=\"\" # Replace with your own API key"
   ]
  },
  {
   "cell_type": "code",
   "execution_count": 11,
   "metadata": {
    "id": "zWFFGN3WVvHS"
   },
   "outputs": [],
   "source": [
    "import os\n",
    "from langchain.document_loaders import PyPDFLoader\n",
    "from langchain.text_splitter import RecursiveCharacterTextSplitter\n",
    "from langchain.embeddings.openai import OpenAIEmbeddings\n",
    "from langchain.vectorstores import FAISS\n",
    "from langchain.chat_models import ChatOpenAI\n",
    "from langchain.chains import RetrievalQA"
   ]
  },
  {
   "cell_type": "code",
   "execution_count": 13,
   "metadata": {
    "colab": {
     "base_uri": "https://localhost:8080/"
    },
    "executionInfo": {
     "elapsed": 17,
     "status": "ok",
     "timestamp": 1746367757165,
     "user": {
      "displayName": "Siru He",
      "userId": "16196108805373074692"
     },
     "user_tz": 240
    },
    "id": "Sl8NeM3_9LxH",
    "outputId": "9a83e02f-7fb7-40fa-84f1-864e0cff37b3"
   },
   "outputs": [
    {
     "name": "stdout",
     "output_type": "stream",
     "text": [
      "Writing OAI_CONFIG_LIST\n"
     ]
    }
   ],
   "source": [
    "%%writefile OAI_CONFIG_LIST\n",
    "[\n",
    "    {\n",
    "        \"model\": \"gpt-4\",\n",
    "        \"api_key\": \"\",\n",
    "        \"tags\": [\"gpt-4\", \"tool\"]\n",
    "    }\n",
    "]\n"
   ]
  },
  {
   "cell_type": "code",
   "execution_count": 14,
   "metadata": {
    "id": "d-jmAa1STokd"
   },
   "outputs": [],
   "source": [
    "# Load PDF files\n",
    "from langchain.document_loaders import PyPDFLoader, UnstructuredExcelLoader\n",
    "\n",
    "all_documents = []\n",
    "for filename in os.listdir(pdf_folder):\n",
    "    if filename.lower().endswith(\".pdf\"):\n",
    "        file_path = os.path.join(pdf_folder, filename)\n",
    "        loader = PyPDFLoader(file_path)\n",
    "        documents = loader.load()\n",
    "        all_documents.extend(documents)\n"
   ]
  },
  {
   "cell_type": "code",
   "execution_count": 15,
   "metadata": {
    "id": "eFTP0C7xTsDE"
   },
   "outputs": [],
   "source": [
    "# Chunking the text\n",
    "from langchain.text_splitter import RecursiveCharacterTextSplitter\n",
    "\n",
    "splitter = RecursiveCharacterTextSplitter(\n",
    "    chunk_size=1000,\n",
    "    chunk_overlap=200\n",
    ")\n",
    "chunks = splitter.split_documents(all_documents)\n"
   ]
  },
  {
   "cell_type": "code",
   "execution_count": 16,
   "metadata": {
    "colab": {
     "base_uri": "https://localhost:8080/"
    },
    "executionInfo": {
     "elapsed": 9948,
     "status": "ok",
     "timestamp": 1746367816297,
     "user": {
      "displayName": "Siru He",
      "userId": "16196108805373074692"
     },
     "user_tz": 240
    },
    "id": "wHgxsZnaT4ig",
    "outputId": "90766c2b-0564-4b22-dea1-d60e5b6902f4"
   },
   "outputs": [
    {
     "name": "stderr",
     "output_type": "stream",
     "text": [
      "C:\\Users\\11944\\AppData\\Local\\Temp\\ipykernel_29408\\3859304846.py:2: LangChainDeprecationWarning: The class `OpenAIEmbeddings` was deprecated in LangChain 0.0.9 and will be removed in 1.0. An updated version of the class exists in the :class:`~langchain-openai package and should be used instead. To use it run `pip install -U :class:`~langchain-openai` and import as `from :class:`~langchain_openai import OpenAIEmbeddings``.\n",
      "  embeddings = OpenAIEmbeddings()\n"
     ]
    }
   ],
   "source": [
    "# Vectorization\n",
    "embeddings = OpenAIEmbeddings()\n",
    "\n",
    "vectorstore = FAISS.from_documents(chunks, embeddings)\n",
    "vectorstore.save_local(\"rag_index\")"
   ]
  },
  {
   "cell_type": "code",
   "execution_count": 17,
   "metadata": {
    "colab": {
     "base_uri": "https://localhost:8080/"
    },
    "executionInfo": {
     "elapsed": 209,
     "status": "ok",
     "timestamp": 1746367816505,
     "user": {
      "displayName": "Siru He",
      "userId": "16196108805373074692"
     },
     "user_tz": 240
    },
    "id": "2XvzXLSwT7PE",
    "outputId": "0a15330a-9767-4d2d-ddf8-9c9f39786a91"
   },
   "outputs": [
    {
     "name": "stderr",
     "output_type": "stream",
     "text": [
      "C:\\Users\\11944\\AppData\\Local\\Temp\\ipykernel_29408\\1985165244.py:4: LangChainDeprecationWarning: The class `ChatOpenAI` was deprecated in LangChain 0.0.10 and will be removed in 1.0. An updated version of the class exists in the :class:`~langchain-openai package and should be used instead. To use it run `pip install -U :class:`~langchain-openai` and import as `from :class:`~langchain_openai import ChatOpenAI``.\n",
      "  llm = ChatOpenAI(model_name=\"gpt-4\")\n"
     ]
    }
   ],
   "source": [
    "# Set up Retriever\n",
    "retriever = vectorstore.as_retriever(search_type=\"similarity\", search_kwargs={\"k\":5})\n",
    "\n",
    "llm = ChatOpenAI(model_name=\"gpt-4\")\n",
    "\n",
    "rag_chain = RetrievalQA.from_chain_type(\n",
    "    llm=llm,\n",
    "    retriever=retriever\n",
    ")"
   ]
  },
  {
   "cell_type": "code",
   "execution_count": 18,
   "metadata": {
    "id": "Eeqa2HMjlzsq"
   },
   "outputs": [],
   "source": [
    "query_list = [\n",
    "    'Did the company beat, meet, or miss its sales expectations this quarter?',\n",
    "    \"Did the company's sales increase year-over-year (YoY)?\",\n",
    "    \"Did the company beat, meet, or miss its earnings expectations this quarter?\",\n",
    "    \"Did the company's earnings increase year-over-year (YoY)?\",\n",
    "    \"Did the company raise or lower its sales guidance?\",\n",
    "    \"Did the company raise or lower its earnings guidance?\",\n",
    "    \"What is the company's outlook on future sales growth? (Up, Flat, or Down)\",\n",
    "    \"What is the company's guidance on future earnings? (Up, Flat, or Down)\"\n",
    "]\n",
    "result_dic = {}\n",
    "result_list = []"
   ]
  },
  {
   "cell_type": "code",
   "execution_count": 19,
   "metadata": {
    "colab": {
     "base_uri": "https://localhost:8080/"
    },
    "executionInfo": {
     "elapsed": 16240,
     "status": "ok",
     "timestamp": 1746367849788,
     "user": {
      "displayName": "Siru He",
      "userId": "16196108805373074692"
     },
     "user_tz": 240
    },
    "id": "7f2-zI3lml7p",
    "outputId": "c1bf5de6-52a0-45e6-8b5b-7cb8931b0314"
   },
   "outputs": [
    {
     "name": "stderr",
     "output_type": "stream",
     "text": [
      "C:\\Users\\11944\\AppData\\Local\\Temp\\ipykernel_29408\\3022571715.py:2: LangChainDeprecationWarning: The method `Chain.run` was deprecated in langchain 0.1.0 and will be removed in 1.0. Use :meth:`~invoke` instead.\n",
      "  result = rag_chain.run(query)\n"
     ]
    }
   ],
   "source": [
    "for query in query_list:\n",
    "  result = rag_chain.run(query)\n",
    "  result_dic[query] = result\n",
    "  result_list.append(result)"
   ]
  },
  {
   "cell_type": "code",
   "execution_count": 20,
   "metadata": {
    "colab": {
     "base_uri": "https://localhost:8080/"
    },
    "executionInfo": {
     "elapsed": 11,
     "status": "ok",
     "timestamp": 1746367860556,
     "user": {
      "displayName": "Siru He",
      "userId": "16196108805373074692"
     },
     "user_tz": 240
    },
    "id": "KHDrKKaEm64c",
    "outputId": "590ab68b-37e6-4837-cd7d-abfaebbaad7e"
   },
   "outputs": [
    {
     "name": "stdout",
     "output_type": "stream",
     "text": [
      "Did the company beat, meet, or miss its sales expectations this quarter? : The text does not provide specific information on whether the company beat, met, or missed its sales expectations for this quarter.\n",
      "\n",
      "\n",
      "Did the company's sales increase year-over-year (YoY)? : Yes, the company's sales increased year-over-year. The net sales increased $31.9 billion or 5.0% for fiscal 2025 and $36.8 billion or 6.1% for fiscal 2024 when compared to the previous fiscal year.\n",
      "\n",
      "\n",
      "Did the company beat, meet, or miss its earnings expectations this quarter? : The text does not provide specific information on whether the company beat, met, or missed its earnings expectations for the quarter.\n",
      "\n",
      "\n",
      "Did the company's earnings increase year-over-year (YoY)? : Yes, the company's earnings did increase year-over-year. Adjusted operating income increased by 9.4%, and consolidated revenue grew by 5.6% in constant currency.\n",
      "\n",
      "\n",
      "Did the company raise or lower its sales guidance? : The text does not provide information on whether the company raised or lowered its sales guidance.\n",
      "\n",
      "\n",
      "Did the company raise or lower its earnings guidance? : The text does not provide explicit information on whether the company raised or lowered its earnings guidance.\n",
      "\n",
      "\n",
      "What is the company's outlook on future sales growth? (Up, Flat, or Down) : Up\n",
      "\n",
      "\n",
      "What is the company's guidance on future earnings? (Up, Flat, or Down) : The company's guidance on future earnings for the first quarter of fiscal year 2026 suggests an increase. The expected EPS range is $0.57 to $0.58, up from the Q1 FY25 figure of $0.60.\n",
      "\n",
      "\n"
     ]
    }
   ],
   "source": [
    "for i in result_dic:\n",
    "  print(i,':',result_dic[i])\n",
    "  print('\\n')"
   ]
  },
  {
   "cell_type": "code",
   "execution_count": null,
   "metadata": {
    "colab": {
     "base_uri": "https://localhost:8080/"
    },
    "executionInfo": {
     "elapsed": 1962,
     "status": "ok",
     "timestamp": 1745876404196,
     "user": {
      "displayName": "Siru He",
      "userId": "16196108805373074692"
     },
     "user_tz": 240
    },
    "id": "5IMEYT6LT9Cn",
    "outputId": "3b3a152c-dfa5-4e96-fdd0-91026a9e2fe0"
   },
   "outputs": [
    {
     "name": "stderr",
     "output_type": "stream",
     "text": [
      "<ipython-input-21-3f086cf3ccc6>:2: LangChainDeprecationWarning: The method `Chain.run` was deprecated in langchain 0.1.0 and will be removed in 1.0. Use :meth:`~invoke` instead.\n",
      "  result = rag_chain.run(query)\n"
     ]
    },
    {
     "name": "stdout",
     "output_type": "stream",
     "text": [
      "\n",
      "💬 回答：\n",
      "Q4 FY25的销售额为$36.4 billion。\n"
     ]
    }
   ],
   "source": [
    "query = \"What is the sales number of Q4 FYq5\"\n",
    "result = rag_chain.run(query)\n",
    "print(\"\\n💬 回答：\")\n",
    "print(result)"
   ]
  }
 ],
 "metadata": {
  "colab": {
   "authorship_tag": "ABX9TyOhWEt/23jjj8NiVqrqaL3c",
   "provenance": []
  },
  "kernelspec": {
   "display_name": "Python 3 (ipykernel)",
   "language": "python",
   "name": "python3"
  },
  "language_info": {
   "codemirror_mode": {
    "name": "ipython",
    "version": 3
   },
   "file_extension": ".py",
   "mimetype": "text/x-python",
   "name": "python",
   "nbconvert_exporter": "python",
   "pygments_lexer": "ipython3",
   "version": "3.12.4"
  }
 },
 "nbformat": 4,
 "nbformat_minor": 4
}
